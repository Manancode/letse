{
  "cells": [
    {
      "cell_type": "code",
      "execution_count": null,
      "metadata": {
        "vscode": {
          "languageId": "plaintext"
        }
      },
      "outputs": [],
      "source": [
        "# VoiceFilter Dataset Subset Creator\n",
        "\n",
        "This notebook creates manageable subsets of your VoiceFilter dataset for training on platforms with limited storage (like Kaggle).\n",
        "\n",
        "**What it does:**\n",
        "- Analyzes your dataset to find complete sample groups\n",
        "- Creates subsets of ~15GB each with complete samples\n",
        "- Copies test data once (no subsetting needed)\n",
        "- Each sample includes all required files: dvec.txt, mixed.wav, target.wav, features.pt, etc.\n"
      ]
    },
    {
      "cell_type": "code",
      "execution_count": null,
      "metadata": {},
      "outputs": [],
      "source": [
        "# Install required packages\n",
        "!pip install google-cloud-storage\n"
      ]
    },
    {
      "cell_type": "code",
      "execution_count": null,
      "metadata": {},
      "outputs": [],
      "source": [
        "# Configuration\n",
        "SOURCE_BUCKET = \"voicefilter-data\"  # Your existing bucket\n",
        "TARGET_BUCKET = \"voicefilter-data\"  # Same bucket, different prefix \n",
        "SOURCE_TRAIN_PREFIX = \"vf_data_production/train\"\n",
        "SOURCE_TEST_PREFIX = \"vf_data_production/test\"\n",
        "TARGET_PREFIX = \"vf_data_subsets\"\n",
        "SUBSET_SIZE_GB = 15  # Target size per subset\n",
        "\n",
        "print(f\"📂 Source: gs://{SOURCE_BUCKET}/{SOURCE_TRAIN_PREFIX}\")\n",
        "print(f\"📂 Target: gs://{TARGET_BUCKET}/{TARGET_PREFIX}\")\n"
      ]
    },
    {
      "cell_type": "code",
      "execution_count": null,
      "metadata": {},
      "outputs": [],
      "source": [
        "# Copy the subset creation script to current directory\n",
        "script_content = '''\n",
        "# [The create_gcs_subsets.py script content would go here]\n",
        "# For now, download from GitHub or copy manually\n",
        "'''\n",
        "\n",
        "# Or download if available online\n",
        "# !wget -O create_gcs_subsets.py https://raw.githubusercontent.com/Manancode/voicefilter/main/create_gcs_subsets.py\n",
        "\n",
        "print(\"📝 Make sure create_gcs_subsets.py is in the current directory\")\n"
      ]
    }
  ],
  "metadata": {
    "language_info": {
      "name": "python"
    }
  },
  "nbformat": 4,
  "nbformat_minor": 2
}
